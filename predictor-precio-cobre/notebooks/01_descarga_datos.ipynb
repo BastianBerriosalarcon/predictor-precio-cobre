{
 "cells": [
  {
   "cell_type": "markdown",
   "metadata": {},
   "source": [
    "# Notebook 01: Descarga de Datos\n",
    "\n",
    "## Objetivo\n",
    "Descargar datos historicos del precio del cobre desde Yahoo Finance y guardarlos en formato CSV.\n",
    "\n",
    "## Fuente de Datos\n",
    "- **Ticker:** HG=F (Copper Futures)\n",
    "- **Periodo:** 2010-01-01 hasta hoy\n",
    "- **Fuente:** Yahoo Finance via yfinance\n",
    "\n",
    "## Pasos\n",
    "1. Importar librerias necesarias\n",
    "2. Descargar datos usando el modulo data_loader\n",
    "3. Explorar datos basicos (head, info, describe)\n",
    "4. Verificar missing values\n",
    "5. Guardar en data/raw/\n"
   ]
  },
  {
   "cell_type": "markdown",
   "metadata": {},
   "source": [
    "## 1. Importar Librerias"
   ]
  },
  {
   "cell_type": "code",
   "execution_count": 3,
   "metadata": {},
   "outputs": [
    {
     "name": "stdout",
     "output_type": "stream",
     "text": [
      "Librerias importadas correctamente\n"
     ]
    }
   ],
   "source": [
    "import sys\n",
    "import os\n",
    "\n",
    "# Agregar path del proyecto\n",
    "sys.path.append('..')\n",
    "\n",
    "import pandas as pd\n",
    "import numpy as np\n",
    "import matplotlib.pyplot as plt\n",
    "import seaborn as sns\n",
    "\n",
    "# Importar modulos del proyecto\n",
    "from src.data_loader import download_and_load, get_data_summary, validate_data\n",
    "\n",
    "# Configuracion de visualizacion\n",
    "plt.style.use('seaborn-v0_8-darkgrid')\n",
    "%matplotlib inline\n",
    "\n",
    "print(\"Librerias importadas correctamente\")"
   ]
  },
  {
   "cell_type": "markdown",
   "metadata": {},
   "source": [
    "## 2. Descargar Datos desde Yahoo Finance\n",
    "\n",
    "La funcion `download_and_load()` descarga los datos si no existen, o los carga si ya fueron descargados previamente."
   ]
  },
  {
   "cell_type": "code",
   "execution_count": 4,
   "metadata": {},
   "outputs": [
    {
     "name": "stdout",
     "output_type": "stream",
     "text": [
      "Archivo no encontrado. Descargando datos...\n",
      "Descargando datos de HG=F desde 2010-01-01...\n"
     ]
    },
    {
     "name": "stderr",
     "output_type": "stream",
     "text": [
      "/workspaces/codespaces-jupyter/predictor-precio-cobre/notebooks/../src/data_loader.py:61: FutureWarning: YF.download() has changed argument auto_adjust default to True\n",
      "  df = yf.download(ticker, start=start_date, end=end_date, progress=False)\n"
     ]
    },
    {
     "name": "stdout",
     "output_type": "stream",
     "text": [
      "Descarga exitosa: 3962 registros desde 2010-01-04 00:00:00 hasta 2025-10-02 00:00:00\n",
      "Datos guardados en: data/raw/precio_cobre_yahoo.csv\n",
      "\n",
      "DataFrame cargado con 3962 registros\n",
      "Rango de fechas: 2010-01-04 00:00:00 a 2025-10-02 00:00:00\n"
     ]
    }
   ],
   "source": [
    "# Descargar o cargar datos\n",
    "df = download_and_load(config_path='../config.yaml', force_download=False)\n",
    "\n",
    "print(f\"\\nDataFrame cargado con {len(df)} registros\")\n",
    "print(f\"Rango de fechas: {df['fecha'].min()} a {df['fecha'].max()}\")"
   ]
  },
  {
   "cell_type": "markdown",
   "metadata": {},
   "source": [
    "## 3. Exploracion Basica de Datos"
   ]
  },
  {
   "cell_type": "code",
   "execution_count": 5,
   "metadata": {},
   "outputs": [
    {
     "name": "stdout",
     "output_type": "stream",
     "text": [
      "Primeras 10 filas:\n"
     ]
    },
    {
     "data": {
      "text/html": [
       "<div>\n",
       "<style scoped>\n",
       "    .dataframe tbody tr th:only-of-type {\n",
       "        vertical-align: middle;\n",
       "    }\n",
       "\n",
       "    .dataframe tbody tr th {\n",
       "        vertical-align: top;\n",
       "    }\n",
       "\n",
       "    .dataframe thead th {\n",
       "        text-align: right;\n",
       "    }\n",
       "</style>\n",
       "<table border=\"1\" class=\"dataframe\">\n",
       "  <thead>\n",
       "    <tr style=\"text-align: right;\">\n",
       "      <th></th>\n",
       "      <th>fecha</th>\n",
       "      <th>precio_cobre_usd_lb</th>\n",
       "    </tr>\n",
       "  </thead>\n",
       "  <tbody>\n",
       "    <tr>\n",
       "      <th>0</th>\n",
       "      <td>2010-01-04</td>\n",
       "      <td>3.3880</td>\n",
       "    </tr>\n",
       "    <tr>\n",
       "      <th>1</th>\n",
       "      <td>2010-01-05</td>\n",
       "      <td>3.3960</td>\n",
       "    </tr>\n",
       "    <tr>\n",
       "      <th>2</th>\n",
       "      <td>2010-01-06</td>\n",
       "      <td>3.4775</td>\n",
       "    </tr>\n",
       "    <tr>\n",
       "      <th>3</th>\n",
       "      <td>2010-01-07</td>\n",
       "      <td>3.4115</td>\n",
       "    </tr>\n",
       "    <tr>\n",
       "      <th>4</th>\n",
       "      <td>2010-01-08</td>\n",
       "      <td>3.3880</td>\n",
       "    </tr>\n",
       "    <tr>\n",
       "      <th>5</th>\n",
       "      <td>2010-01-11</td>\n",
       "      <td>3.4285</td>\n",
       "    </tr>\n",
       "    <tr>\n",
       "      <th>6</th>\n",
       "      <td>2010-01-12</td>\n",
       "      <td>3.3375</td>\n",
       "    </tr>\n",
       "    <tr>\n",
       "      <th>7</th>\n",
       "      <td>2010-01-13</td>\n",
       "      <td>3.3875</td>\n",
       "    </tr>\n",
       "    <tr>\n",
       "      <th>8</th>\n",
       "      <td>2010-01-14</td>\n",
       "      <td>3.3760</td>\n",
       "    </tr>\n",
       "    <tr>\n",
       "      <th>9</th>\n",
       "      <td>2010-01-15</td>\n",
       "      <td>3.3550</td>\n",
       "    </tr>\n",
       "  </tbody>\n",
       "</table>\n",
       "</div>"
      ],
      "text/plain": [
       "       fecha  precio_cobre_usd_lb\n",
       "0 2010-01-04               3.3880\n",
       "1 2010-01-05               3.3960\n",
       "2 2010-01-06               3.4775\n",
       "3 2010-01-07               3.4115\n",
       "4 2010-01-08               3.3880\n",
       "5 2010-01-11               3.4285\n",
       "6 2010-01-12               3.3375\n",
       "7 2010-01-13               3.3875\n",
       "8 2010-01-14               3.3760\n",
       "9 2010-01-15               3.3550"
      ]
     },
     "execution_count": 5,
     "metadata": {},
     "output_type": "execute_result"
    }
   ],
   "source": [
    "# Primeras 10 filas\n",
    "print(\"Primeras 10 filas:\")\n",
    "df.head(10)"
   ]
  },
  {
   "cell_type": "code",
   "execution_count": 6,
   "metadata": {},
   "outputs": [
    {
     "name": "stdout",
     "output_type": "stream",
     "text": [
      "Ultimas 10 filas:\n"
     ]
    },
    {
     "data": {
      "text/html": [
       "<div>\n",
       "<style scoped>\n",
       "    .dataframe tbody tr th:only-of-type {\n",
       "        vertical-align: middle;\n",
       "    }\n",
       "\n",
       "    .dataframe tbody tr th {\n",
       "        vertical-align: top;\n",
       "    }\n",
       "\n",
       "    .dataframe thead th {\n",
       "        text-align: right;\n",
       "    }\n",
       "</style>\n",
       "<table border=\"1\" class=\"dataframe\">\n",
       "  <thead>\n",
       "    <tr style=\"text-align: right;\">\n",
       "      <th></th>\n",
       "      <th>fecha</th>\n",
       "      <th>precio_cobre_usd_lb</th>\n",
       "    </tr>\n",
       "  </thead>\n",
       "  <tbody>\n",
       "    <tr>\n",
       "      <th>3952</th>\n",
       "      <td>2025-09-19</td>\n",
       "      <td>4.5690</td>\n",
       "    </tr>\n",
       "    <tr>\n",
       "      <th>3953</th>\n",
       "      <td>2025-09-22</td>\n",
       "      <td>4.5730</td>\n",
       "    </tr>\n",
       "    <tr>\n",
       "      <th>3954</th>\n",
       "      <td>2025-09-23</td>\n",
       "      <td>4.5845</td>\n",
       "    </tr>\n",
       "    <tr>\n",
       "      <th>3955</th>\n",
       "      <td>2025-09-24</td>\n",
       "      <td>4.7525</td>\n",
       "    </tr>\n",
       "    <tr>\n",
       "      <th>3956</th>\n",
       "      <td>2025-09-25</td>\n",
       "      <td>4.7000</td>\n",
       "    </tr>\n",
       "    <tr>\n",
       "      <th>3957</th>\n",
       "      <td>2025-09-26</td>\n",
       "      <td>4.7155</td>\n",
       "    </tr>\n",
       "    <tr>\n",
       "      <th>3958</th>\n",
       "      <td>2025-09-29</td>\n",
       "      <td>4.8410</td>\n",
       "    </tr>\n",
       "    <tr>\n",
       "      <th>3959</th>\n",
       "      <td>2025-09-30</td>\n",
       "      <td>4.8050</td>\n",
       "    </tr>\n",
       "    <tr>\n",
       "      <th>3960</th>\n",
       "      <td>2025-10-01</td>\n",
       "      <td>4.8305</td>\n",
       "    </tr>\n",
       "    <tr>\n",
       "      <th>3961</th>\n",
       "      <td>2025-10-02</td>\n",
       "      <td>4.8980</td>\n",
       "    </tr>\n",
       "  </tbody>\n",
       "</table>\n",
       "</div>"
      ],
      "text/plain": [
       "          fecha  precio_cobre_usd_lb\n",
       "3952 2025-09-19               4.5690\n",
       "3953 2025-09-22               4.5730\n",
       "3954 2025-09-23               4.5845\n",
       "3955 2025-09-24               4.7525\n",
       "3956 2025-09-25               4.7000\n",
       "3957 2025-09-26               4.7155\n",
       "3958 2025-09-29               4.8410\n",
       "3959 2025-09-30               4.8050\n",
       "3960 2025-10-01               4.8305\n",
       "3961 2025-10-02               4.8980"
      ]
     },
     "execution_count": 6,
     "metadata": {},
     "output_type": "execute_result"
    }
   ],
   "source": [
    "# Ultimas 10 filas\n",
    "print(\"Ultimas 10 filas:\")\n",
    "df.tail(10)"
   ]
  },
  {
   "cell_type": "code",
   "execution_count": 7,
   "metadata": {},
   "outputs": [
    {
     "name": "stdout",
     "output_type": "stream",
     "text": [
      "Informacion del DataFrame:\n",
      "<class 'pandas.core.frame.DataFrame'>\n",
      "RangeIndex: 3962 entries, 0 to 3961\n",
      "Data columns (total 2 columns):\n",
      " #   Column               Non-Null Count  Dtype         \n",
      "---  ------               --------------  -----         \n",
      " 0   fecha                3962 non-null   datetime64[ns]\n",
      " 1   precio_cobre_usd_lb  3962 non-null   float64       \n",
      "dtypes: datetime64[ns](1), float64(1)\n",
      "memory usage: 62.0 KB\n"
     ]
    }
   ],
   "source": [
    "# Informacion del DataFrame\n",
    "print(\"Informacion del DataFrame:\")\n",
    "df.info()"
   ]
  },
  {
   "cell_type": "code",
   "execution_count": 8,
   "metadata": {},
   "outputs": [
    {
     "name": "stdout",
     "output_type": "stream",
     "text": [
      "Estadisticas descriptivas:\n"
     ]
    },
    {
     "data": {
      "text/html": [
       "<div>\n",
       "<style scoped>\n",
       "    .dataframe tbody tr th:only-of-type {\n",
       "        vertical-align: middle;\n",
       "    }\n",
       "\n",
       "    .dataframe tbody tr th {\n",
       "        vertical-align: top;\n",
       "    }\n",
       "\n",
       "    .dataframe thead th {\n",
       "        text-align: right;\n",
       "    }\n",
       "</style>\n",
       "<table border=\"1\" class=\"dataframe\">\n",
       "  <thead>\n",
       "    <tr style=\"text-align: right;\">\n",
       "      <th></th>\n",
       "      <th>fecha</th>\n",
       "      <th>precio_cobre_usd_lb</th>\n",
       "    </tr>\n",
       "  </thead>\n",
       "  <tbody>\n",
       "    <tr>\n",
       "      <th>count</th>\n",
       "      <td>3962</td>\n",
       "      <td>3962.000000</td>\n",
       "    </tr>\n",
       "    <tr>\n",
       "      <th>mean</th>\n",
       "      <td>2017-11-17 14:33:44.432105216</td>\n",
       "      <td>3.386041</td>\n",
       "    </tr>\n",
       "    <tr>\n",
       "      <th>min</th>\n",
       "      <td>2010-01-04 00:00:00</td>\n",
       "      <td>1.939500</td>\n",
       "    </tr>\n",
       "    <tr>\n",
       "      <th>25%</th>\n",
       "      <td>2013-12-09 06:00:00</td>\n",
       "      <td>2.777125</td>\n",
       "    </tr>\n",
       "    <tr>\n",
       "      <th>50%</th>\n",
       "      <td>2017-11-15 12:00:00</td>\n",
       "      <td>3.312750</td>\n",
       "    </tr>\n",
       "    <tr>\n",
       "      <th>75%</th>\n",
       "      <td>2021-10-25 18:00:00</td>\n",
       "      <td>3.962750</td>\n",
       "    </tr>\n",
       "    <tr>\n",
       "      <th>max</th>\n",
       "      <td>2025-10-02 00:00:00</td>\n",
       "      <td>5.795000</td>\n",
       "    </tr>\n",
       "    <tr>\n",
       "      <th>std</th>\n",
       "      <td>NaN</td>\n",
       "      <td>0.741137</td>\n",
       "    </tr>\n",
       "  </tbody>\n",
       "</table>\n",
       "</div>"
      ],
      "text/plain": [
       "                               fecha  precio_cobre_usd_lb\n",
       "count                           3962          3962.000000\n",
       "mean   2017-11-17 14:33:44.432105216             3.386041\n",
       "min              2010-01-04 00:00:00             1.939500\n",
       "25%              2013-12-09 06:00:00             2.777125\n",
       "50%              2017-11-15 12:00:00             3.312750\n",
       "75%              2021-10-25 18:00:00             3.962750\n",
       "max              2025-10-02 00:00:00             5.795000\n",
       "std                              NaN             0.741137"
      ]
     },
     "execution_count": 8,
     "metadata": {},
     "output_type": "execute_result"
    }
   ],
   "source": [
    "# Estadisticas descriptivas\n",
    "print(\"Estadisticas descriptivas:\")\n",
    "df.describe()"
   ]
  },
  {
   "cell_type": "markdown",
   "metadata": {},
   "source": [
    "## 4. Verificar Missing Values"
   ]
  },
  {
   "cell_type": "code",
   "execution_count": 9,
   "metadata": {},
   "outputs": [
    {
     "name": "stdout",
     "output_type": "stream",
     "text": [
      "Valores nulos por columna:\n",
      "fecha                  0\n",
      "precio_cobre_usd_lb    0\n",
      "dtype: int64\n",
      "\n",
      "Total de valores nulos: 0\n",
      "Porcentaje de valores nulos: 0.00%\n"
     ]
    }
   ],
   "source": [
    "# Verificar valores nulos\n",
    "print(\"Valores nulos por columna:\")\n",
    "print(df.isnull().sum())\n",
    "print(f\"\\nTotal de valores nulos: {df.isnull().sum().sum()}\")\n",
    "\n",
    "# Porcentaje de valores nulos\n",
    "if len(df) > 0:\n",
    "    porcentaje_nulos = (df.isnull().sum().sum() / (len(df) * len(df.columns))) * 100\n",
    "    print(f\"Porcentaje de valores nulos: {porcentaje_nulos:.2f}%\")"
   ]
  },
  {
   "cell_type": "markdown",
   "metadata": {},
   "source": [
    "## 5. Resumen de Datos"
   ]
  },
  {
   "cell_type": "code",
   "execution_count": 10,
   "metadata": {},
   "outputs": [
    {
     "name": "stdout",
     "output_type": "stream",
     "text": [
      "Resumen de datos del cobre:\n",
      "==================================================\n",
      "num_registros       : 3962\n",
      "fecha_inicio        : 2010-01-04 00:00:00\n",
      "fecha_fin           : 2025-10-02 00:00:00\n",
      "precio_promedio     : 3.386040633733317\n",
      "precio_mediana      : 3.312749981880188\n",
      "precio_min          : 1.9394999742507935\n",
      "precio_max          : 5.795000076293945\n",
      "precio_std          : 0.7411369247008592\n",
      "valores_nulos       : 0\n",
      "==================================================\n"
     ]
    }
   ],
   "source": [
    "# Obtener resumen completo\n",
    "summary = get_data_summary(df)\n",
    "\n",
    "print(\"Resumen de datos del cobre:\")\n",
    "print(\"=\"*50)\n",
    "for key, value in summary.items():\n",
    "    print(f\"{key:20s}: {value}\")\n",
    "print(\"=\"*50)"
   ]
  },
  {
   "cell_type": "markdown",
   "metadata": {},
   "source": [
    "## 6. Validacion de Datos"
   ]
  },
  {
   "cell_type": "code",
   "execution_count": 11,
   "metadata": {},
   "outputs": [
    {
     "name": "stdout",
     "output_type": "stream",
     "text": [
      "Los datos son validos y estan listos para usar\n"
     ]
    }
   ],
   "source": [
    "# Validar datos\n",
    "es_valido, errores = validate_data(df)\n",
    "\n",
    "if es_valido:\n",
    "    print(\"Los datos son validos y estan listos para usar\")\n",
    "else:\n",
    "    print(\"ADVERTENCIA: Los datos tienen los siguientes problemas:\")\n",
    "    for error in errores:\n",
    "        print(f\"  - {error}\")"
   ]
  },
  {
   "cell_type": "markdown",
   "metadata": {},
   "source": [
    "## 7. Visualizacion Rapida"
   ]
  },
  {
   "cell_type": "code",
   "execution_count": 12,
   "metadata": {},
   "outputs": [
    {
     "data": {
      "image/png": "[encoded data removed]",
      "text/plain": [
       "<Figure size 1400x600 with 1 Axes>"
      ]
     },
     "metadata": {},
     "output_type": "display_data"
    }
   ],
   "source": [
    "# Grafico simple de la serie temporal\n",
    "plt.figure(figsize=(14, 6))\n",
    "plt.plot(df['fecha'], df['precio_cobre_usd_lb'], linewidth=1, color='#2E86AB')\n",
    "plt.xlabel('Fecha')\n",
    "plt.ylabel('Precio (USD/lb)')\n",
    "plt.title('Precio del Cobre (2010-2024)', fontsize=14, fontweight='bold')\n",
    "plt.grid(True, alpha=0.3)\n",
    "plt.tight_layout()\n",
    "plt.show()"
   ]
  },
  {
   "cell_type": "markdown",
   "metadata": {},
   "source": [
    "## 8. Conclusiones\n",
    "\n",
    "En este notebook:\n",
    "1. Descargamos exitosamente los datos del precio del cobre desde Yahoo Finance\n",
    "2. Verificamos que los datos no tienen valores nulos\n",
    "3. Confirmamos que las fechas estan ordenadas cronologicamente\n",
    "4. Validamos que los precios son positivos\n",
    "5. Visualizamos la serie temporal completa\n",
    "\n",
    "**Datos guardados en:** `data/raw/precio_cobre_yahoo.csv`\n",
    "\n",
    "**Proximo paso:** Notebook 02 - Analisis Exploratorio de Datos (EDA)"
   ]
  }
 ],
 "metadata": {
  "kernelspec": {
   "display_name": "Python 3",
   "language": "python",
   "name": "python3"
  },
  "language_info": {
   "codemirror_mode": {
    "name": "ipython",
    "version": 3
   },
   "file_extension": ".py",
   "mimetype": "text/x-python",
   "name": "python",
   "nbconvert_exporter": "python",
   "pygments_lexer": "ipython3",
   "version": "3.12.1"
  }
 },
 "nbformat": 4,
 "nbformat_minor": 4
}
